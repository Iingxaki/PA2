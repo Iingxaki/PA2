{
 "cells": [
  {
   "cell_type": "markdown",
   "id": "ee6a4807",
   "metadata": {},
   "source": [
    "#### PA2, Radjamin Hukom, Version 1, Spring 2023"
   ]
  },
  {
   "cell_type": "code",
   "execution_count": 7,
   "id": "0b87ee9d",
   "metadata": {},
   "outputs": [
    {
     "name": "stdout",
     "output_type": "stream",
     "text": [
      "Enter a floating-point number. 44.3\n"
     ]
    }
   ],
   "source": [
    "fn = float(input(\"Enter a floating-point number. \"))"
   ]
  },
  {
   "cell_type": "code",
   "execution_count": 8,
   "id": "36f01cdc",
   "metadata": {},
   "outputs": [
    {
     "name": "stdout",
     "output_type": "stream",
     "text": [
      "Enter an integer. 16\n"
     ]
    }
   ],
   "source": [
    "intn = int(input(\"Enter an integer. \"))"
   ]
  },
  {
   "cell_type": "code",
   "execution_count": 9,
   "id": "b1c19cf2",
   "metadata": {},
   "outputs": [
    {
     "name": "stdout",
     "output_type": "stream",
     "text": [
      "The sum is 60.3\n"
     ]
    }
   ],
   "source": [
    "sum1 = fn+intn\n",
    "print(\"The sum is\",sum1)"
   ]
  },
  {
   "cell_type": "code",
   "execution_count": 10,
   "id": "6a9b4079",
   "metadata": {},
   "outputs": [
    {
     "name": "stdout",
     "output_type": "stream",
     "text": [
      "The difference is 28.299999999999997\n"
     ]
    }
   ],
   "source": [
    "sub = fn - intn\n",
    "print(\"The difference is\", sub)"
   ]
  },
  {
   "cell_type": "code",
   "execution_count": 11,
   "id": "135c07aa",
   "metadata": {},
   "outputs": [
    {
     "name": "stdout",
     "output_type": "stream",
     "text": [
      "The product is 708.8\n"
     ]
    }
   ],
   "source": [
    "prod = fn*intn\n",
    "print(\"The product is\", prod)"
   ]
  },
  {
   "cell_type": "code",
   "execution_count": 12,
   "id": "cc67b744",
   "metadata": {},
   "outputs": [
    {
     "name": "stdout",
     "output_type": "stream",
     "text": [
      "The quotient 2.76875\n"
     ]
    }
   ],
   "source": [
    "quot = fn/intn\n",
    "print(\"The quotient\", quot)"
   ]
  },
  {
   "cell_type": "code",
   "execution_count": 13,
   "id": "63c9e3f1",
   "metadata": {},
   "outputs": [
    {
     "name": "stdout",
     "output_type": "stream",
     "text": [
      "The type for the result is <class 'float'>\n"
     ]
    }
   ],
   "source": [
    "print(\"The type for the result is\", type(quot))"
   ]
  },
  {
   "cell_type": "code",
   "execution_count": null,
   "id": "2eb0cbc7",
   "metadata": {},
   "outputs": [],
   "source": []
  }
 ],
 "metadata": {
  "kernelspec": {
   "display_name": "Python 3 (ipykernel)",
   "language": "python",
   "name": "python3"
  },
  "language_info": {
   "codemirror_mode": {
    "name": "ipython",
    "version": 3
   },
   "file_extension": ".py",
   "mimetype": "text/x-python",
   "name": "python",
   "nbconvert_exporter": "python",
   "pygments_lexer": "ipython3",
   "version": "3.9.13"
  }
 },
 "nbformat": 4,
 "nbformat_minor": 5
}
